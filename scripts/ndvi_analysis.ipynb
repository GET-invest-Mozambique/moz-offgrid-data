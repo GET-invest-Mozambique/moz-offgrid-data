{
 "cells": [
  {
   "cell_type": "markdown",
   "metadata": {},
   "source": [
    "# NDVI fourier -> ag\n",
    "\n",
    "Sources:\n",
    "- https://www.scielo.br/pdf/pab/v47n9/12.pdf"
   ]
  },
  {
   "cell_type": "markdown",
   "metadata": {},
   "source": [
    "## Setup"
   ]
  },
  {
   "cell_type": "code",
   "execution_count": null,
   "metadata": {},
   "outputs": [],
   "source": [
    "from pathlib import Path\n",
    "import pickle\n",
    "\n",
    "import numpy as np\n",
    "import rasterio as rio\n",
    "from matplotlib import pyplot as plt\n",
    "from sklearn.cluster import KMeans"
   ]
  },
  {
   "cell_type": "code",
   "execution_count": null,
   "metadata": {},
   "outputs": [],
   "source": [
    "# dir_in = Path(\"../data/ndvi-weekly/\")\n",
    "dir_in = Path(\"../data/ndvi-modis-daily/\")\n",
    "dir_out = dir_in / \"../ndvi-proc/\"\n",
    "\n",
    "dir_in = Path(\"~/Stanford/data/data/ndvi-daily\").expanduser()\n",
    "dir_out = dir_in.parents[0] / \"ndvi-proc\"\n",
    "dir_out.mkdir(exist_ok=True)\n",
    "\n",
    "tifs = [f for f in dir_in.iterdir() if f.suffix == \".tif\"]\n",
    "print(len(tifs))"
   ]
  },
  {
   "cell_type": "code",
   "execution_count": null,
   "metadata": {},
   "outputs": [],
   "source": [
    "with rio.open(tifs[0]) as ds:\n",
    "    prof = ds.profile"
   ]
  },
  {
   "cell_type": "markdown",
   "metadata": {},
   "source": [
    "## Read arrs, stack and FFT"
   ]
  },
  {
   "cell_type": "code",
   "execution_count": null,
   "metadata": {},
   "outputs": [],
   "source": [
    "arrs = []\n",
    "for f in tifs:\n",
    "    with rio.open(f) as ds:\n",
    "        arrs.append(ds.read(1))"
   ]
  },
  {
   "cell_type": "code",
   "execution_count": null,
   "metadata": {},
   "outputs": [],
   "source": [
    "st = np.stack(arrs)\n",
    "st.shape"
   ]
  },
  {
   "cell_type": "code",
   "execution_count": null,
   "metadata": {},
   "outputs": [],
   "source": [
    "# with open(\"stack-daily.pickle\", \"wb\") as f:\n",
    "#     pickle.dump(st, f)"
   ]
  },
  {
   "cell_type": "code",
   "execution_count": null,
   "metadata": {},
   "outputs": [],
   "source": [
    "# with open(\"stack-daily.pickle\", \"rb\") as f:\n",
    "#     st = pickle.load(f)"
   ]
  },
  {
   "cell_type": "code",
   "execution_count": null,
   "metadata": {},
   "outputs": [],
   "source": [
    "st.shape, st.dtype"
   ]
  },
  {
   "cell_type": "code",
   "execution_count": null,
   "metadata": {},
   "outputs": [],
   "source": [
    "def fillnan(arr):\n",
    "    c = 0\n",
    "    nz = 1\n",
    "    while nz > 0:\n",
    "        for i in range(arr.shape[0] - 1):\n",
    "            mask = np.isnan(arr[i, :, :])\n",
    "            arr[i, :, :][mask] = arr[i + 1, :, :][mask]\n",
    "        for i in range(arr.shape[0] - 1):\n",
    "            ii = 360 - i\n",
    "            mask = np.isnan(arr[ii, :, :])\n",
    "            arr[ii, :, :][mask] = arr[ii - 1, :, :][mask]\n",
    "        nz = np.count_nonzero(np.isnan(arr[:-1, :, :]))\n",
    "        c += 1\n",
    "        print(c, nz)\n",
    "    return arr[:-1, :, :]"
   ]
  },
  {
   "cell_type": "code",
   "execution_count": null,
   "metadata": {},
   "outputs": [],
   "source": [
    "# use abs to convert to real numbers\n",
    "st = np.abs(np.fft.fft(st, axis=0))\n",
    "st.shape"
   ]
  },
  {
   "cell_type": "code",
   "execution_count": null,
   "metadata": {},
   "outputs": [],
   "source": [
    "bands = 6"
   ]
  },
  {
   "cell_type": "code",
   "execution_count": null,
   "metadata": {},
   "outputs": [],
   "source": [
    "ft = st[:bands, :, :]\n",
    "ft = ft.astype(np.float32)\n",
    "ft.shape"
   ]
  },
  {
   "cell_type": "code",
   "execution_count": null,
   "metadata": {},
   "outputs": [],
   "source": [
    "# with open(\"fft-daily.pickle\", \"wb\") as f:\n",
    "#     pickle.dump(ft, f)"
   ]
  },
  {
   "cell_type": "code",
   "execution_count": null,
   "metadata": {},
   "outputs": [],
   "source": [
    "# with open(\"fft-daily.pickle\", \"rb\") as f:\n",
    "#     ft = pickle.load(f)"
   ]
  },
  {
   "cell_type": "code",
   "execution_count": null,
   "metadata": {},
   "outputs": [],
   "source": [
    "ft.shape, ft.dtype"
   ]
  },
  {
   "cell_type": "code",
   "execution_count": null,
   "metadata": {},
   "outputs": [],
   "source": [
    "prof.update(count=bands)\n",
    "with rio.open(dir_out / \"daily-fft.tif\", \"w\", **prof) as ds:\n",
    "    ds.write(ft.astype(np.float32))"
   ]
  },
  {
   "cell_type": "markdown",
   "metadata": {},
   "source": [
    "# Now let's do ML\n",
    "- https://scikit-learn.org/stable/modules/generated/sklearn.cluster.KMeans.html#sklearn.cluster.KMeans\n",
    "\n",
    "## KMeans\n",
    "How many clusters?"
   ]
  },
  {
   "cell_type": "code",
   "execution_count": null,
   "metadata": {},
   "outputs": [],
   "source": [
    "ft2 = np.moveaxis(ft, 0, -1)\n",
    "ft2.shape"
   ]
  },
  {
   "cell_type": "code",
   "execution_count": null,
   "metadata": {},
   "outputs": [],
   "source": [
    "X = ft2.reshape((-1, bands))\n",
    "X = np.nan_to_num(X, nan=0.0, posinf=0.0, neginf=0.0)\n",
    "X.shape"
   ]
  },
  {
   "cell_type": "code",
   "execution_count": null,
   "metadata": {},
   "outputs": [],
   "source": [
    "n_clusters = 5\n",
    "y = KMeans(n_clusters=n_clusters).fit_predict(X)\n",
    "y.shape"
   ]
  },
  {
   "cell_type": "code",
   "execution_count": null,
   "metadata": {},
   "outputs": [],
   "source": [
    "y_out = y.reshape(st.shape[1:])\n",
    "y_out.shape"
   ]
  },
  {
   "cell_type": "code",
   "execution_count": null,
   "metadata": {},
   "outputs": [],
   "source": [
    "plt.imshow(y_out)"
   ]
  },
  {
   "cell_type": "code",
   "execution_count": null,
   "metadata": {},
   "outputs": [],
   "source": [
    "prof.update(count=1)\n",
    "with rio.open(dir_out / \"daily-pred.tif\", \"w\", **prof) as ds:\n",
    "    ds.write(y_out.astype(np.float32), indexes=1)"
   ]
  },
  {
   "cell_type": "code",
   "execution_count": null,
   "metadata": {},
   "outputs": [],
   "source": []
  }
 ],
 "metadata": {
  "kernelspec": {
   "display_name": "Python 3",
   "language": "python",
   "name": "python3"
  },
  "language_info": {
   "codemirror_mode": {
    "name": "ipython",
    "version": 3
   },
   "file_extension": ".py",
   "mimetype": "text/x-python",
   "name": "python",
   "nbconvert_exporter": "python",
   "pygments_lexer": "ipython3",
   "version": "3.8.2"
  }
 },
 "nbformat": 4,
 "nbformat_minor": 4
}
