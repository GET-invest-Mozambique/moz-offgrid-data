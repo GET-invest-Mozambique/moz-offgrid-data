{
 "cells": [
  {
   "cell_type": "markdown",
   "metadata": {
    "colab_type": "text",
    "id": "k82IySjKNQ0A"
   },
   "source": [
    "# Download data as Tiff from EE"
   ]
  },
  {
   "cell_type": "markdown",
   "metadata": {
    "colab_type": "text",
    "id": "zII-_pgjN3Vo"
   },
   "source": [
    "## Setup"
   ]
  },
  {
   "cell_type": "code",
   "execution_count": 1,
   "metadata": {
    "colab": {},
    "colab_type": "code",
    "id": "1Y0pvIpoN5Pg"
   },
   "outputs": [],
   "source": [
    "import ee\n",
    "from geetools.batch import Export"
   ]
  },
  {
   "cell_type": "code",
   "execution_count": 2,
   "metadata": {
    "colab": {},
    "colab_type": "code",
    "id": "VKuVuhrHN52k"
   },
   "outputs": [
    {
     "data": {
      "text/html": [
       "<p>To authorize access needed by Earth Engine, open the following\n",
       "        URL in a web browser and follow the instructions:</p>\n",
       "        <p><a href=https://accounts.google.com/o/oauth2/auth?client_id=517222506229-vsmmajv00ul0bs7p89v5m89qs8eb9359.apps.googleusercontent.com&scope=https%3A%2F%2Fwww.googleapis.com%2Fauth%2Fearthengine+https%3A%2F%2Fwww.googleapis.com%2Fauth%2Fdevstorage.full_control&redirect_uri=urn%3Aietf%3Awg%3Aoauth%3A2.0%3Aoob&response_type=code&code_challenge=sJCfYEUkP6GxeW08JlRWq5Bu99qlL8ynMsPL6cX-qZI&code_challenge_method=S256>https://accounts.google.com/o/oauth2/auth?client_id=517222506229-vsmmajv00ul0bs7p89v5m89qs8eb9359.apps.googleusercontent.com&scope=https%3A%2F%2Fwww.googleapis.com%2Fauth%2Fearthengine+https%3A%2F%2Fwww.googleapis.com%2Fauth%2Fdevstorage.full_control&redirect_uri=urn%3Aietf%3Awg%3Aoauth%3A2.0%3Aoob&response_type=code&code_challenge=sJCfYEUkP6GxeW08JlRWq5Bu99qlL8ynMsPL6cX-qZI&code_challenge_method=S256</a></p>\n",
       "        <p>The authorization workflow will generate a code, which you\n",
       "        should paste in the box below</p>\n",
       "        "
      ],
      "text/plain": [
       "<IPython.core.display.HTML object>"
      ]
     },
     "metadata": {},
     "output_type": "display_data"
    },
    {
     "name": "stdin",
     "output_type": "stream",
     "text": [
      "Enter verification code:  4/1QFe7tYYmvNedamLd6F8Vl1Lzzlr8u1eIlqQVMIt_58PekuwWj-NtsU\n"
     ]
    },
    {
     "name": "stdout",
     "output_type": "stream",
     "text": [
      "\n",
      "Successfully saved authorization token.\n"
     ]
    }
   ],
   "source": [
    "ee.Authenticate()\n",
    "ee.Initialize()"
   ]
  },
  {
   "cell_type": "code",
   "execution_count": 3,
   "metadata": {
    "colab": {},
    "colab_type": "code",
    "id": "MfP4ALOiN6x8"
   },
   "outputs": [],
   "source": [
    "viirs = \"NOAA/VIIRS/DNB/MONTHLY_V1/VCMCFG\"\n",
    "loc=\"moz\"\n",
    "# xmin, ymin, xmax, ymax\n",
    "# roi = ee.Geometry.Rectangle([29, -2, 36, 6])  # Uganda\n",
    "roi = ee.Geometry.Rectangle([28, -28, 43, -9])  # Mozam"
   ]
  },
  {
   "cell_type": "code",
   "execution_count": 4,
   "metadata": {},
   "outputs": [],
   "source": [
    "date_sta = \"2019-01-01\"\n",
    "date_end = \"2020-06-04\""
   ]
  },
  {
   "cell_type": "code",
   "execution_count": 5,
   "metadata": {},
   "outputs": [],
   "source": [
    "ic = (\n",
    "    ee.ImageCollection(viirs)\n",
    "    .filterBounds(roi)\n",
    "    .filterDate(date_sta, date_end)\n",
    ")"
   ]
  },
  {
   "cell_type": "code",
   "execution_count": 6,
   "metadata": {},
   "outputs": [
    {
     "name": "stdout",
     "output_type": "stream",
     "text": [
      "exporting moz_20190101 to folder 'ntl_moz' in GDrive\n",
      "exporting moz_20190201 to folder 'ntl_moz' in GDrive\n",
      "exporting moz_20190301 to folder 'ntl_moz' in GDrive\n",
      "exporting moz_20190401 to folder 'ntl_moz' in GDrive\n",
      "exporting moz_20190501 to folder 'ntl_moz' in GDrive\n",
      "exporting moz_20190601 to folder 'ntl_moz' in GDrive\n",
      "exporting moz_20190701 to folder 'ntl_moz' in GDrive\n",
      "exporting moz_20190801 to folder 'ntl_moz' in GDrive\n",
      "exporting moz_20190901 to folder 'ntl_moz' in GDrive\n",
      "exporting moz_20191001 to folder 'ntl_moz' in GDrive\n",
      "exporting moz_20191101 to folder 'ntl_moz' in GDrive\n",
      "exporting moz_20191201 to folder 'ntl_moz' in GDrive\n",
      "exporting moz_20200101 to folder 'ntl_moz' in GDrive\n"
     ]
    },
    {
     "data": {
      "text/plain": [
       "[<Task EXPORT_IMAGE: moz_20190101 (UNSUBMITTED)>,\n",
       " <Task EXPORT_IMAGE: moz_20190201 (UNSUBMITTED)>,\n",
       " <Task EXPORT_IMAGE: moz_20190301 (UNSUBMITTED)>,\n",
       " <Task EXPORT_IMAGE: moz_20190401 (UNSUBMITTED)>,\n",
       " <Task EXPORT_IMAGE: moz_20190501 (UNSUBMITTED)>,\n",
       " <Task EXPORT_IMAGE: moz_20190601 (UNSUBMITTED)>,\n",
       " <Task EXPORT_IMAGE: moz_20190701 (UNSUBMITTED)>,\n",
       " <Task EXPORT_IMAGE: moz_20190801 (UNSUBMITTED)>,\n",
       " <Task EXPORT_IMAGE: moz_20190901 (UNSUBMITTED)>,\n",
       " <Task EXPORT_IMAGE: moz_20191001 (UNSUBMITTED)>,\n",
       " <Task EXPORT_IMAGE: moz_20191101 (UNSUBMITTED)>,\n",
       " <Task EXPORT_IMAGE: moz_20191201 (UNSUBMITTED)>,\n",
       " <Task EXPORT_IMAGE: moz_20200101 (UNSUBMITTED)>]"
      ]
     },
     "execution_count": 6,
     "metadata": {},
     "output_type": "execute_result"
    }
   ],
   "source": [
    "Export.imagecollection.toDrive(\n",
    "    collection=ic,\n",
    "    folder=f\"ntl_{loc}\",\n",
    "    namePattern=f\"{loc}_{{system_date}}\",\n",
    "    region=roi,\n",
    "    scale=400,\n",
    "    dataType=\"float\",\n",
    "    datePattern=\"yyyyMMdd\",\n",
    "    skipEmptyTiles=True,\n",
    "    verbose=True,\n",
    "    retry_backoff=True,\n",
    ")"
   ]
  },
  {
   "cell_type": "code",
   "execution_count": null,
   "metadata": {},
   "outputs": [],
   "source": []
  }
 ],
 "metadata": {
  "colab": {
   "authorship_tag": "ABX9TyPsuD3MjA7uryaE0rkwnIZM",
   "collapsed_sections": [],
   "mount_file_id": "1U8bLfV2qJ0DXq5sJXkwCVUmFv5G-5Qj7",
   "name": "download_ee",
   "provenance": []
  },
  "kernelspec": {
   "display_name": "Python 3",
   "language": "python",
   "name": "python3"
  },
  "language_info": {
   "codemirror_mode": {
    "name": "ipython",
    "version": 3
   },
   "file_extension": ".py",
   "mimetype": "text/x-python",
   "name": "python",
   "nbconvert_exporter": "python",
   "pygments_lexer": "ipython3",
   "version": "3.8.2"
  }
 },
 "nbformat": 4,
 "nbformat_minor": 4
}
